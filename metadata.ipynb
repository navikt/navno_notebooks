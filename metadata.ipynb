{
 "cells": [
  {
   "cell_type": "markdown",
   "metadata": {},
   "source": [
    "# Analyse av metadata som finnes i JSON data"
   ]
  },
  {
   "cell_type": "code",
   "execution_count": null,
   "metadata": {},
   "outputs": [],
   "source": [
    "from rich import print"
   ]
  },
  {
   "cell_type": "code",
   "execution_count": null,
   "metadata": {},
   "outputs": [],
   "source": [
    "import pathlib\n",
    "\n",
    "from rich.prompt import Prompt\n",
    "\n",
    "index_file = pathlib.Path(\"index.json\")\n",
    "if not index_file.exists():\n",
    "    raw_path = Prompt.ask(\"Velg index fil\")\n",
    "    index_file = pathlib.Path(raw_path)"
   ]
  },
  {
   "cell_type": "code",
   "execution_count": null,
   "metadata": {},
   "outputs": [],
   "source": [
    "import json\n",
    "\n",
    "with open(index_file, mode=\"r\") as fil:\n",
    "    index: list[dict] = json.load(fil)\n",
    "\n",
    "print(f\"Lastet index ('{index_file}') med {len(index)} sider\")"
   ]
  },
  {
   "cell_type": "code",
   "execution_count": null,
   "metadata": {},
   "outputs": [],
   "source": [
    "import httpx\n",
    "from rich.progress import track\n",
    "\n",
    "site_metadata = []\n",
    "with httpx.Client() as client:\n",
    "    for site in track(index, description=\"Laster ned metadata\"):\n",
    "        resp = client.get(site[\"json_url\"]).raise_for_status()\n",
    "        data = resp.json()\n",
    "        content = data[\"pageProps\"][\"content\"]\n",
    "        metadata = site.copy()\n",
    "        metadata[\"path\"] = content[\"_path\"]\n",
    "        metadata[\"type\"] = content[\"type\"]\n",
    "        metadata[\"language\"] = content[\"language\"]\n",
    "        metadata[\"title\"] = content[\"displayName\"]\n",
    "        site_metadata.append(metadata)"
   ]
  },
  {
   "cell_type": "code",
   "execution_count": null,
   "metadata": {},
   "outputs": [],
   "source": [
    "import polars as pl\n",
    "\n",
    "df = pl.from_dicts(site_metadata)\n",
    "df = df.with_columns(pl.col(\"last_modified\").str.to_datetime())"
   ]
  },
  {
   "cell_type": "code",
   "execution_count": null,
   "metadata": {},
   "outputs": [],
   "source": [
    "df.describe()"
   ]
  },
  {
   "cell_type": "code",
   "execution_count": null,
   "metadata": {},
   "outputs": [],
   "source": [
    "df.select(\"type\").group_by(\"type\").len().plot.bar(\"type\", \"len\")"
   ]
  },
  {
   "cell_type": "code",
   "execution_count": null,
   "metadata": {},
   "outputs": [],
   "source": [
    "df.select(\"language\").group_by(\"language\").len().plot.bar(\"language\", \"len\")"
   ]
  },
  {
   "cell_type": "code",
   "execution_count": null,
   "metadata": {},
   "outputs": [],
   "source": []
  },
  {
   "cell_type": "code",
   "execution_count": null,
   "metadata": {},
   "outputs": [],
   "source": []
  }
 ],
 "metadata": {
  "kernelspec": {
   "display_name": "Python 3",
   "language": "python",
   "name": "python3"
  },
  "language_info": {
   "codemirror_mode": {
    "name": "ipython",
    "version": 3
   },
   "file_extension": ".py",
   "mimetype": "text/x-python",
   "name": "python",
   "nbconvert_exporter": "python",
   "pygments_lexer": "ipython3",
   "version": "3.12.7"
  }
 },
 "nbformat": 4,
 "nbformat_minor": 2
}
