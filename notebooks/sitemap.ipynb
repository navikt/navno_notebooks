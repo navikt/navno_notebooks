{
 "cells": [
  {
   "cell_type": "markdown",
   "metadata": {},
   "source": [
    "# Parse Nav.no sitemap\n",
    "\n",
    "Denne notatboken analyserer\n",
    "[nav.no/sitemap.xml](https://www.nav.no/sitemap.xml). Sitemap-en beskriver alle\n",
    "åpne sider på [Nav.no](https://www.nav.no) og når de siste er oppdatert. Denne\n",
    "informasjonen er fin å bruke når man skal laste ned innholdet."
   ]
  },
  {
   "cell_type": "code",
   "execution_count": null,
   "metadata": {},
   "outputs": [],
   "source": [
    "from rich import print"
   ]
  },
  {
   "cell_type": "code",
   "execution_count": null,
   "metadata": {},
   "outputs": [],
   "source": [
    "# Filter for å fjerne stier som vi ikke er interessert i å indeksere\n",
    "PATH_FILTER = (\n",
    "    \"/nav-og-samfunn/statistikk\",  # Bob trenger ikke å kunne svare om statistikk\n",
    "    \"/nav-og-samfunn/kunnskap\",  # Trenger ikke å svare om kunnskapsinnhold heller\n",
    ")\n",
    "# Filtrer ut sidetyper som ikke gir så mye mening at Bob bruker\n",
    "PAGE_TYPE_FILTER = (\n",
    "    \"no.nav.navno:area-page\",  # Oversikt over et tema som for det meste inneholder lenker: \"/helse\"\n",
    "    \"no.nav.navno:form-intermediate-step\",  # Ser ut til å bare være knapp for å sende inn søknad: \"/start/soknad-aap\"\n",
    "    \"no.nav.navno:front-page\",  # De store forsidene, disse har bare lenker videre: \"www.nav.no/\"\n",
    "    \"no.nav.navno:front-page-nested\",  # Oversiktsside med bare lenker: \"/utbetalinger\"\n",
    "    \"no.nav.navno:generic-page\",  # Lenke side: \"/send-beskjed-om-syk\"\n",
    "    \"no.nav.navno:large-table\",  # Store tabeller med statistikk\n",
    "    \"no.nav.navno:main-article\",  # Ser ut til å være artikler/nyheter: \"https://www.nav.no/no/nav-og-samfunn/samarbeid/hjelpemidler/leverandorer-av-hjelpemidler/innovasjon-og-utvikling\"\n",
    "    \"no.nav.navno:office-page\",  # Kontaktinformasjon til lokalkontor: \"/kontor/nav-sor-helgeland\"\n",
    "    \"no.nav.navno:page-list\",  # Ser ut som en lenke side: \"https://www.nav.no/no/nav-og-samfunn/samarbeid/leger-og-andre-behandlere/om-sykmelding-for-leger\"\n",
    "    \"no.nav.navno:press-landing-page\",  # Kontaktinformasjon for presse (bare 1 side): \"/samarbeidspartner/presse\"\n",
    "    \"no.nav.navno:section-page\",  # Lenkeside (bare 2 eksempler): \"/se/samegiella\"\n",
    ")\n",
    "# Bare ta med artikler på følgende språk\n",
    "LANGUAGE_INCLUDE = (\n",
    "    \"no\",\n",
    "    \"nn\",\n",
    ")"
   ]
  },
  {
   "cell_type": "markdown",
   "metadata": {},
   "source": [
    "## Leser inn sitemap fra internett"
   ]
  },
  {
   "cell_type": "code",
   "execution_count": null,
   "metadata": {},
   "outputs": [],
   "source": [
    "from navno_notebooks.sitemap import parse_sitemap\n",
    "\n",
    "sitemap = await parse_sitemap(\"https://www.nav.no/sitemap.xml\")"
   ]
  },
  {
   "cell_type": "markdown",
   "metadata": {},
   "source": [
    "## Filtrerer ut sider"
   ]
  },
  {
   "cell_type": "code",
   "execution_count": null,
   "metadata": {},
   "outputs": [],
   "source": [
    "from yarl import URL\n",
    "\n",
    "to_index: list[URL] = []\n",
    "\n",
    "for site in sitemap:\n",
    "    if not any([path in site.loc.path for path in PATH_FILTER]):\n",
    "        url = URL(str(site.loc))\n",
    "        to_index.append(url)\n",
    "print(\n",
    "    f\"Antall sider etter filtrering: {len(to_index)} \"\n",
    "    f\"({len(to_index) / len(sitemap):.1%} av alle sider)\"\n",
    ")"
   ]
  },
  {
   "cell_type": "markdown",
   "metadata": {},
   "source": [
    "## Hent ut JSON data"
   ]
  },
  {
   "cell_type": "code",
   "execution_count": null,
   "metadata": {},
   "outputs": [],
   "source": [
    "from rich.progress import Progress\n",
    "\n",
    "from navno_notebooks.metadata import Metadata, fetch_metadata\n",
    "\n",
    "index: list[Metadata] = []\n",
    "could_not_reach: list[URL] = []\n",
    "\n",
    "with Progress() as prog:\n",
    "    fetch_task = prog.add_task(\"Henter metadata\", total=len(to_index))\n",
    "    to_filter: list[Metadata]\n",
    "    async for meta in fetch_metadata(to_index):\n",
    "        could_not_reach = meta.could_not_reach\n",
    "        to_filter = meta.metadata\n",
    "        prog.update(\n",
    "            fetch_task, completed=len(meta.metadata) + len(meta.could_not_reach)\n",
    "        )\n",
    "    filter_task = prog.add_task(\"Filtrerer sider\", total=len(to_filter))\n",
    "    for metadata in to_filter:\n",
    "        if metadata.type in PAGE_TYPE_FILTER:\n",
    "            continue\n",
    "        if metadata.language not in LANGUAGE_INCLUDE:\n",
    "            continue\n",
    "        index.append(metadata)\n",
    "        prog.advance(filter_task)\n",
    "\n",
    "print(\n",
    "    f\"Endte med {len(index)} sider å indeksere etter filtrering på type ({len(index) / len(sitemap):.1%} av alle sider)\"\n",
    ")"
   ]
  },
  {
   "cell_type": "code",
   "execution_count": null,
   "metadata": {},
   "outputs": [],
   "source": [
    "print(f\"{len(could_not_reach)} sider kunne ikke nåes\")"
   ]
  },
  {
   "cell_type": "markdown",
   "metadata": {},
   "source": [
    "## Skriv til lokal JSON"
   ]
  },
  {
   "cell_type": "code",
   "execution_count": null,
   "metadata": {},
   "outputs": [],
   "source": [
    "import json\n",
    "\n",
    "from rich.prompt import Prompt\n",
    "\n",
    "if local_file := Prompt.ask(\"Filnavn å skrive indeks til\", default=\"index.json\"):\n",
    "    if not local_file.endswith(\".json\"):\n",
    "        local_file += \".json\"\n",
    "    with open(local_file, mode=\"w\") as fil:\n",
    "        json.dump([site.model_dump(mode=\"json\") for site in index], fil)"
   ]
  },
  {
   "cell_type": "code",
   "execution_count": null,
   "metadata": {},
   "outputs": [],
   "source": []
  }
 ],
 "metadata": {
  "kernelspec": {
   "display_name": "Python 3",
   "language": "python",
   "name": "python3"
  },
  "language_info": {
   "codemirror_mode": {
    "name": "ipython",
    "version": 3
   },
   "file_extension": ".py",
   "mimetype": "text/x-python",
   "name": "python",
   "nbconvert_exporter": "python",
   "pygments_lexer": "ipython3",
   "version": "3.12.7"
  }
 },
 "nbformat": 4,
 "nbformat_minor": 2
}
