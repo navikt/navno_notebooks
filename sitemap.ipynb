{
 "cells": [
  {
   "cell_type": "markdown",
   "metadata": {},
   "source": [
    "# Parse Nav.no sitemap\n",
    "\n",
    "Denne notatboken analyserer\n",
    "[nav.no/sitemap.xml](https://www.nav.no/sitemap.xml). Sitemap-en beskriver alle\n",
    "åpne sider på [Nav.no](https://www.nav.no) og når de siste er oppdatert. Denne\n",
    "informasjonen er fin å bruke når man skal laste ned innholdet."
   ]
  },
  {
   "cell_type": "code",
   "execution_count": null,
   "metadata": {},
   "outputs": [],
   "source": [
    "from rich import print"
   ]
  },
  {
   "cell_type": "code",
   "execution_count": null,
   "metadata": {},
   "outputs": [],
   "source": [
    "# Filter for å fjerne stier som vi ikke er interessert i å indeksere\n",
    "PATH_FILTER = (\n",
    "    \"/nav-og-samfunn/statistikk\",  # Bob trenger ikke å kunne svare om statistikk\n",
    "    \"/nav-og-samfunn/kunnskap\",  # Trenger ikke å svare om kunnskapsinnhold heller\n",
    ")\n",
    "# Filtrer ut sidetyper som ikke gir så mye mening at Bob bruker\n",
    "PAGE_TYPE_FILTER = (\n",
    "    \"no.nav.navno:area-page\",  # Oversikt over et tema som for det meste inneholder lenker: \"/helse\"\n",
    "    \"no.nav.navno:form-intermediate-step\",  # Ser ut til å bare være knapp for å sende inn søknad: \"/start/soknad-aap\"\n",
    "    \"no.nav.navno:front-page\",  # De store forsidene, disse har bare lenker videre: \"www.nav.no/\"\n",
    "    \"no.nav.navno:front-page-nested\",  # Oversiktsside med bare lenker: \"/utbetalinger\"\n",
    "    \"no.nav.navno:generic-page\",  # Lenke side: \"/send-beskjed-om-syk\"\n",
    "    \"no.nav.navno:large-table\",  # Store tabeller med statistikk\n",
    "    \"no.nav.navno:main-article\",  # Ser ut til å være artikler/nyheter: \"https://www.nav.no/no/nav-og-samfunn/samarbeid/hjelpemidler/leverandorer-av-hjelpemidler/innovasjon-og-utvikling\"\n",
    "    \"no.nav.navno:office-page\",  # Kontaktinformasjon til lokalkontor: \"/kontor/nav-sor-helgeland\"\n",
    "    \"no.nav.navno:page-list\",  # Ser ut som en lenke side: \"https://www.nav.no/no/nav-og-samfunn/samarbeid/leger-og-andre-behandlere/om-sykmelding-for-leger\"\n",
    "    \"no.nav.navno:press-landing-page\",  # Kontaktinformasjon for presse (bare 1 side): \"/samarbeidspartner/presse\"\n",
    "    \"no.nav.navno:section-page\",  # Lenkeside (bare 2 eksempler): \"/se/samegiella\"\n",
    ")\n",
    "# Bare ta med artikler på følgende språk\n",
    "LANGUAGE_INCLUDE = (\n",
    "    \"no\",\n",
    "    \"nn\",\n",
    ")"
   ]
  },
  {
   "cell_type": "markdown",
   "metadata": {},
   "source": [
    "## Leser inn sitemap fra internett"
   ]
  },
  {
   "cell_type": "code",
   "execution_count": null,
   "metadata": {},
   "outputs": [],
   "source": [
    "import httpx\n",
    "\n",
    "raw_sitemap = httpx.get(\"https://www.nav.no/sitemap.xml\").raise_for_status()"
   ]
  },
  {
   "cell_type": "code",
   "execution_count": null,
   "metadata": {},
   "outputs": [],
   "source": [
    "import xml.etree.ElementTree as ET\n",
    "\n",
    "sitemap = ET.fromstring(raw_sitemap.text)\n",
    "print(f\"Antall sider i sitemap: {len(sitemap)}\")"
   ]
  },
  {
   "cell_type": "markdown",
   "metadata": {},
   "source": [
    "## Filtrerer ut sider"
   ]
  },
  {
   "cell_type": "code",
   "execution_count": null,
   "metadata": {},
   "outputs": [],
   "source": [
    "import datetime\n",
    "\n",
    "from yarl import URL\n",
    "\n",
    "to_index: list[URL] = []\n",
    "\n",
    "for site in sitemap:\n",
    "    if not any([path in site[0].text for path in PATH_FILTER]):\n",
    "        url = URL(site[0].text)\n",
    "        to_index.append(url)\n",
    "print(\n",
    "    f\"Antall sider etter filtrering: {len(to_index)} \"\n",
    "    f\"({len(to_index) / len(sitemap):.1%} av alle sider)\"\n",
    ")"
   ]
  },
  {
   "cell_type": "markdown",
   "metadata": {},
   "source": [
    "## Definere datastruktur"
   ]
  },
  {
   "cell_type": "code",
   "execution_count": null,
   "metadata": {},
   "outputs": [],
   "source": [
    "from pydantic import BaseModel, HttpUrl\n",
    "\n",
    "\n",
    "class SiteToIndex(BaseModel):\n",
    "    \"\"\"Representasjon av en nettside vi skal indeksere.\"\"\"\n",
    "\n",
    "    url: HttpUrl\n",
    "    \"\"\"URL til siden\"\"\"\n",
    "    json_url: HttpUrl\n",
    "    \"\"\"URL til JSON objektet vi kan hente strukturert data\"\"\"\n",
    "    last_modified: datetime.datetime | None\n",
    "    \"\"\"Når ble siden sist oppdatert\"\"\""
   ]
  },
  {
   "cell_type": "markdown",
   "metadata": {},
   "source": [
    "## Hent ut JSON data"
   ]
  },
  {
   "cell_type": "code",
   "execution_count": null,
   "metadata": {},
   "outputs": [],
   "source": [
    "from rich.progress import track\n",
    "\n",
    "index: list[SiteToIndex] = []\n",
    "could_not_reach: list[URL] = []\n",
    "\n",
    "with httpx.Client() as client:\n",
    "    while to_index:\n",
    "        redirects = []\n",
    "        for site in track(to_index, description=\"Aksesserer JSON\"):\n",
    "            try:\n",
    "                resp = client.get(\n",
    "                    f\"https://www.nav.no/_next/data/latest/{site.path}.json\"\n",
    "                ).raise_for_status()\n",
    "            except httpx.HTTPStatusError:\n",
    "                could_not_reach.append(site)\n",
    "                continue\n",
    "            data = resp.json()[\"pageProps\"]\n",
    "            if \"__N_REDIRECT\" in data:\n",
    "                redirects.append(site.with_path(data[\"__N_REDIRECT\"]))\n",
    "                continue\n",
    "            content = data[\"content\"]\n",
    "            page_type = content[\"type\"]\n",
    "            if page_type in PAGE_TYPE_FILTER:\n",
    "                # Hvis siden er av en type som vi ikke trenger å indeksere så\n",
    "                # hopper vi over den her\n",
    "                continue\n",
    "            if content[\"language\"] not in LANGUAGE_INCLUDE:\n",
    "                continue\n",
    "            last_modified = content.get(\"modifiedTime\")\n",
    "            index.append(\n",
    "                SiteToIndex(\n",
    "                    url=str(site),\n",
    "                    json_url=str(resp.request.url),\n",
    "                    last_modified=last_modified,\n",
    "                )\n",
    "            )\n",
    "        to_index.clear()\n",
    "        if redirects:\n",
    "            print(\n",
    "                f\"{len(redirects)} sider videresendte oss, må prøve å aksessere disse også\"\n",
    "            )\n",
    "            to_index.extend(redirects)\n",
    "            redirects.clear()\n",
    "\n",
    "\n",
    "print(\n",
    "    f\"Endte med {len(index)} sider å indeksere etter filtrering på type ({len(index) / len(sitemap):.1%} av alle sider)\"\n",
    ")"
   ]
  },
  {
   "cell_type": "code",
   "execution_count": null,
   "metadata": {},
   "outputs": [],
   "source": [
    "print(f\"{len(could_not_reach)} sider kunne ikke nåes\")"
   ]
  },
  {
   "cell_type": "markdown",
   "metadata": {},
   "source": [
    "## Skriv til lokal JSON"
   ]
  },
  {
   "cell_type": "code",
   "execution_count": null,
   "metadata": {},
   "outputs": [],
   "source": [
    "import json\n",
    "\n",
    "from rich.prompt import Prompt\n",
    "\n",
    "if local_file := Prompt.ask(\"Filnavn å skrive indeks til\", default=\"index.json\"):\n",
    "    if not local_file.endswith(\".json\"):\n",
    "        local_file += \".json\"\n",
    "    with open(local_file, mode=\"w\") as fil:\n",
    "        json.dump([site.model_dump(mode=\"json\") for site in index], fil)"
   ]
  },
  {
   "cell_type": "code",
   "execution_count": null,
   "metadata": {},
   "outputs": [],
   "source": []
  }
 ],
 "metadata": {
  "kernelspec": {
   "display_name": "Python 3",
   "language": "python",
   "name": "python3"
  },
  "language_info": {
   "codemirror_mode": {
    "name": "ipython",
    "version": 3
   },
   "file_extension": ".py",
   "mimetype": "text/x-python",
   "name": "python",
   "nbconvert_exporter": "python",
   "pygments_lexer": "ipython3",
   "version": "3.12.7"
  }
 },
 "nbformat": 4,
 "nbformat_minor": 2
}
